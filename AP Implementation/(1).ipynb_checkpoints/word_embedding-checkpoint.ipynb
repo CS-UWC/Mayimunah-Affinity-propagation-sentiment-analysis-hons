{
 "cells": [
  {
   "cell_type": "markdown",
   "id": "9d39e047",
   "metadata": {},
   "source": []
  },
  {
   "cell_type": "markdown",
   "id": "bdd1de9f",
   "metadata": {},
   "source": [
    "# Word Embedding and TF-IDF Vectorization\n",
    "\n",
    "This notebook focuses on transforming text data into numerical features using TF-IDF vectorization. The key steps performed are:\n",
    "\n",
    "## 1. Importing Necessary Libraries\n",
    "- `pandas` for data manipulation.\n",
    "- `TfidfVectorizer` from `sklearn.feature_extraction.text` for text vectorization.\n",
    "\n",
    "## 2. Loading Cleaned Data\n",
    "- The cleaned text data is loaded from `cleaned_tweets.csv`.\n",
    "- Missing values in the 'cleaned_text' column are filled with empty strings.\n",
    "\n",
    "## 3. TF-IDF Vectorization\n",
    "- A `TfidfVectorizer` instance is created to convert the text data into a TF-IDF matrix.\n",
    "- The `fit_transform` method is applied to the 'cleaned_text' column to obtain the TF-IDF representation of the text data.\n",
    "\n",
    "## 4. Saving the Results\n",
    "- The resulting TF-IDF matrix and the vectorizer are saved using `pickle` for future use.\n",
    "  - The TF-IDF matrix is saved to `tfidf_matrix.pkl`.\n",
    "  - The `TfidfVectorizer` instance is saved to `vectorizer.pkl`.\n"
   ]
  },
  {
   "cell_type": "markdown",
   "id": "120291ad",
   "metadata": {},
   "source": []
  },
  {
   "cell_type": "code",
   "execution_count": null,
   "id": "6c0a2b00",
   "metadata": {},
   "outputs": [],
   "source": [
    "# word_embedding.ipynb\n",
    "\n",
    "# Importing Necessary Libraries\n",
    "import pandas as pd\n",
    "from sklearn.feature_extraction.text import TfidfVectorizer\n"
   ]
  },
  {
   "cell_type": "code",
   "execution_count": 2,
   "id": "951a356d",
   "metadata": {},
   "outputs": [],
   "source": [
    "# Loading the cleaned data\n",
    "df = pd.read_csv('cleaned_tweets.csv')\n",
    "df['cleaned_text'].fillna('', inplace=True)"
   ]
  },
  {
   "cell_type": "code",
   "execution_count": 3,
   "id": "e539d834",
   "metadata": {},
   "outputs": [],
   "source": [
    "# TF-IDF Vectorization\n",
    "vectorizer = TfidfVectorizer()\n",
    "tfidf_matrix = vectorizer.fit_transform(df['cleaned_text'])"
   ]
  },
  {
   "cell_type": "code",
   "execution_count": 4,
   "id": "417ed14c",
   "metadata": {},
   "outputs": [],
   "source": [
    "# Saving the TF-IDF matrix and vectorizer for further use\n",
    "import pickle\n",
    "with open('tfidf_matrix.pkl', 'wb') as f:\n",
    "    pickle.dump(tfidf_matrix, f)\n",
    "with open('vectorizer.pkl', 'wb') as f:\n",
    "    pickle.dump(vectorizer, f)\n"
   ]
  },
  {
   "cell_type": "code",
   "execution_count": 5,
   "id": "5ac4e47d",
   "metadata": {},
   "outputs": [
    {
     "name": "stdout",
     "output_type": "stream",
     "text": [
      "(27981, 28645)\n"
     ]
    }
   ],
   "source": [
    "# Displaying the shape of the TF-IDF matrix for analyzing the matrix\n",
    "print(tfidf_matrix.shape)"
   ]
  }
 ],
 "metadata": {
  "kernelspec": {
   "display_name": "Python 3 (ipykernel)",
   "language": "python",
   "name": "python3"
  },
  "language_info": {
   "codemirror_mode": {
    "name": "ipython",
    "version": 3
   },
   "file_extension": ".py",
   "mimetype": "text/x-python",
   "name": "python",
   "nbconvert_exporter": "python",
   "pygments_lexer": "ipython3",
   "version": "3.9.13"
  }
 },
 "nbformat": 4,
 "nbformat_minor": 5
}

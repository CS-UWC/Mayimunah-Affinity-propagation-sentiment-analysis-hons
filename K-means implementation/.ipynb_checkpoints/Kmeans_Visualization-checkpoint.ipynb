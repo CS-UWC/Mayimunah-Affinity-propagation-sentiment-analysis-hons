{
 "cells": [
  {
   "cell_type": "markdown",
   "id": "bc818b8d",
   "metadata": {},
   "source": []
  },
  {
   "cell_type": "markdown",
   "id": "28269f39",
   "metadata": {},
   "source": [
    "# Kmeans_Visualization\n",
    "\n",
    "## Contents\n",
    "\n",
    "1. **Library Imports and Setup**\n",
    "   - Necessary libraries are imported, including `pandas`, `matplotlib`, `seaborn`, `pickle`, `sklearn`, `nltk`, and others for data processing and visualization.\n",
    "\n",
    "2. **Data Loading**\n",
    "   - The dataset `tweets_with_labels.csv` and K-Means cluster labels from `kmeans_clustering.pkl` are loaded.\n",
    "   - Basic data inspection is performed, including checking the length of the DataFrame and labels.\n",
    "\n",
    "3. **Dimensionality Reduction**\n",
    "   - PCA (Principal Component Analysis) is applied to reduce the dimensionality of the TF-IDF matrix to 100 components.\n",
    "   - Reduced features are used for visualizing clusters.\n",
    "\n",
    "4. **Cluster Visualization**\n",
    "   - A bar graph shows the distribution of data points across different clusters.\n",
    "   - A scatter plot visualizes clusters in the reduced feature space, colored by cluster labels.\n",
    "\n",
    "5. **Cluster Analysis**\n",
    "   - Random and sample texts from each cluster are displayed for manual inspection.\n",
    "   - Sentiment analysis is performed using the VADER sentiment analyzer to assess the sentiment of texts in each cluster.\n",
    "\n",
    "6. **Sentiment Analysis Visualization**\n",
    "   - A bar plot displays the average sentiment scores for each cluster.\n",
    "   - The texts and their associated sentiments are printed for each cluster, categorized into negative, neutral, and positive sentiments.\n",
    "\n",
    "7. **Text Classification**\n",
    "   - Negative, neutral, and positive texts are extracted from the clusters based on sentiment scores.\n",
    "   - The first few examples of each sentiment category are printed for review."
   ]
  },
  {
   "cell_type": "markdown",
   "id": "137e9960",
   "metadata": {},
   "source": []
  },
  {
   "cell_type": "code",
   "execution_count": 23,
   "id": "ff90cb5c",
   "metadata": {},
   "outputs": [
    {
     "name": "stdout",
     "output_type": "stream",
     "text": [
      "Requirement already satisfied: nltk in c:\\users\\mayimunah nagayi\\anaconda3\\lib\\site-packages (3.8.1)\n",
      "Requirement already satisfied: tqdm in c:\\users\\mayimunah nagayi\\anaconda3\\lib\\site-packages (from nltk) (4.64.1)\n",
      "Requirement already satisfied: click in c:\\users\\mayimunah nagayi\\anaconda3\\lib\\site-packages (from nltk) (8.0.4)\n",
      "Requirement already satisfied: joblib in c:\\users\\mayimunah nagayi\\anaconda3\\lib\\site-packages (from nltk) (1.1.0)\n",
      "Requirement already satisfied: regex>=2021.8.3 in c:\\users\\mayimunah nagayi\\anaconda3\\lib\\site-packages (from nltk) (2022.7.9)\n",
      "Requirement already satisfied: colorama in c:\\users\\mayimunah nagayi\\anaconda3\\lib\\site-packages (from click->nltk) (0.4.5)\n"
     ]
    },
    {
     "name": "stderr",
     "output_type": "stream",
     "text": [
      "[nltk_data] Downloading package vader_lexicon to C:\\Users\\Mayimunah\n",
      "[nltk_data]     Nagayi\\AppData\\Roaming\\nltk_data...\n",
      "[nltk_data]   Package vader_lexicon is already up-to-date!\n"
     ]
    },
    {
     "data": {
      "text/plain": [
       "True"
      ]
     },
     "execution_count": 23,
     "metadata": {},
     "output_type": "execute_result"
    }
   ],
   "source": [
    "# Kmeans_Visualization\n",
    "\n",
    "import pandas as pd\n",
    "import matplotlib.pyplot as plt\n",
    "import seaborn as sns\n",
    "import pickle\n",
    "from sklearn.decomposition import PCA, TruncatedSVD\n",
    "from sklearn.metrics import confusion_matrix,calinski_harabasz_score, accuracy_score, classification_report, silhouette_score\n",
    "import numpy as np\n",
    "import scipy.sparse\n",
    "from sklearn.cluster import KMeans\n",
    "from nltk.sentiment.vader import SentimentIntensityAnalyzer\n",
    "from sklearn.feature_extraction.text import TfidfVectorizer\n",
    "import csv\n",
    "\n",
    "# # Install\n",
    "# !pip install nltk\n",
    "import nltk\n",
    "from nltk.sentiment.vader import SentimentIntensityAnalyzer\n",
    "\n",
    "# Download the vader lexicon\n",
    "nltk.download('vader_lexicon')\n"
   ]
  },
  {
   "cell_type": "markdown",
   "id": "f6233f1e",
   "metadata": {},
   "source": []
  },
  {
   "cell_type": "markdown",
   "id": "7af09463",
   "metadata": {},
   "source": [
    "# VADER (Valence Aware Dictionary and sEntiment Reasoner)  is a lexicon and rule-based sentiment analysis tool that is specifically attuned to sentiments expressed in social media."
   ]
  },
  {
   "cell_type": "markdown",
   "id": "3686a4e2",
   "metadata": {},
   "source": []
  },
  {
   "cell_type": "code",
   "execution_count": 24,
   "id": "d68d12dd",
   "metadata": {},
   "outputs": [
    {
     "name": "stderr",
     "output_type": "stream",
     "text": [
      "[nltk_data] Downloading package vader_lexicon to C:\\Users\\Mayimunah\n",
      "[nltk_data]     Nagayi\\AppData\\Roaming\\nltk_data...\n",
      "[nltk_data]   Package vader_lexicon is already up-to-date!\n"
     ]
    },
    {
     "data": {
      "text/plain": [
       "True"
      ]
     },
     "execution_count": 24,
     "metadata": {},
     "output_type": "execute_result"
    }
   ],
   "source": [
    "\n",
    "sia = SentimentIntensityAnalyzer()\n",
    "nltk.download('vader_lexicon')"
   ]
  },
  {
   "cell_type": "markdown",
   "id": "3f4980aa",
   "metadata": {},
   "source": [
    "# VISUALIZATION"
   ]
  },
  {
   "cell_type": "code",
   "execution_count": 25,
   "id": "811db3f1",
   "metadata": {},
   "outputs": [
    {
     "name": "stdout",
     "output_type": "stream",
     "text": [
      "Length of DataFrame: 27981\n",
      "Length of labels: 27981\n"
     ]
    }
   ],
   "source": [
    "# Reading in the clustered data\n",
    "merged_df = pd.read_csv('tweets_with_labels.csv')\n",
    "\n",
    "print(f\"Length of DataFrame: {len(merged_df)}\")\n",
    "\n",
    "with open('kmeans_clustering.pkl', 'rb') as f:\n",
    "    labels = pickle.load(f)\n",
    "\n",
    "print(f\"Length of labels: {len(labels)}\")"
   ]
  },
  {
   "cell_type": "code",
   "execution_count": 26,
   "id": "9bafbbc4",
   "metadata": {},
   "outputs": [],
   "source": [
    "merged_df['labels'] = labels"
   ]
  },
  {
   "cell_type": "code",
   "execution_count": 27,
   "id": "f41504a3",
   "metadata": {},
   "outputs": [
    {
     "name": "stdout",
     "output_type": "stream",
     "text": [
      "First 5 rows for cluster 0:\n",
      "                                                text  \\\n",
      "0                I`d have responded, if I were going   \n",
      "1      Sooo SAD I will miss you here in San Diego!!!   \n",
      "2                          my boss is bullying me...   \n",
      "3                     what interview! leave me alone   \n",
      "4   Sons of ****, why couldn`t they put them on t...   \n",
      "\n",
      "                               cleaned_text  labels  \n",
      "0                        id responded going       0  \n",
      "1                   sooo sad miss san diego       0  \n",
      "2                             boss bullying       0  \n",
      "3                     interview leave alone       0  \n",
      "4  sons couldnt put releases already bought       0  \n",
      "\n",
      "\n",
      "First 5 rows for cluster 1:\n",
      "                                                  text  \\\n",
      "38   i`m soooooo sleeeeepy!!! the last day o` schoo...   \n",
      "39   A little happy for the wine jeje ok it`sm my f...   \n",
      "85   Happy Star Wars day everyone! and Enjoy the ho...   \n",
      "95         Happy Mothers day to all you Mums out there   \n",
      "114  Aww, I love my daddy! He works 7 days a week a...   \n",
      "\n",
      "                                          cleaned_text  labels  \n",
      "38   im soooooo sleeeeepy last day school todaysniffle       1  \n",
      "39   little happy wine jeje ok itsm free time cares...       1  \n",
      "85       happy star wars day everyone enjoy holiday uk       1  \n",
      "95                              happy mothers day mums       1  \n",
      "114  aww love daddy works days week almost day stil...       1  \n",
      "\n",
      "\n",
      "First 5 rows for cluster 2:\n",
      "                                                  text  \\\n",
      "56   Bah a coworker ran into work late and her bag ...   \n",
      "61                                            haha yes   \n",
      "69              If you know such agent, do let me know   \n",
      "103  i realy wanted to go out cause its so nice but...   \n",
      "104   Awesome.  I`m down in Ocean Beach (if you kno...   \n",
      "\n",
      "                                          cleaned_text  labels  \n",
      "56   bah coworker ran work late bag smacked knee re...       2  \n",
      "61                                            haha yes       2  \n",
      "69                                 know agent let know       2  \n",
      "103         realy wanted go cause nice everybodys busy       2  \n",
      "104  awesome im ocean beach know way yourbiggestfan...       2  \n",
      "\n",
      "\n"
     ]
    }
   ],
   "source": [
    "\n",
    "for cluster in [0, 1, 2]:\n",
    "    print(f\"First 5 rows for cluster {cluster}:\")\n",
    "    cluster_data = merged_df[merged_df['labels'] == cluster]\n",
    "    print(cluster_data.head(2))\n",
    "    print(\"\\n\")"
   ]
  },
  {
   "cell_type": "code",
   "execution_count": 28,
   "id": "d47e7cf4",
   "metadata": {},
   "outputs": [
    {
     "name": "stdout",
     "output_type": "stream",
     "text": [
      "Random 2 rows for cluster 0:\n",
      "                                                   text  \\\n",
      "8724                               NICE I must see this   \n",
      "6754   awww, I hates it wen families are brokun up b...   \n",
      "\n",
      "                                           cleaned_text  labels  \n",
      "8724                                      nice must see       0  \n",
      "6754  awww hates wen families brokun humuns maybee s...       0  \n",
      "\n",
      "\n",
      "Random 2 rows for cluster 1:\n",
      "                                                    text  \\\n",
      "23962              could be getting sacked soon not good   \n",
      "9526    LOL! Thanks  glad I have the time off to spen...   \n",
      "\n",
      "                                            cleaned_text  labels  \n",
      "23962                     could getting sacked soon good       1  \n",
      "9526   lol thanks glad time spend cant imagine trying...       1  \n",
      "\n",
      "\n",
      "Random 2 rows for cluster 2:\n",
      "                                                    text  \\\n",
      "16505  i like how, no matter how much fun i`m having,...   \n",
      "26107  Working 930a-730p today. 1.5 hour lunch..8.5 h...   \n",
      "\n",
      "                                            cleaned_text  labels  \n",
      "16505  like matter much fun im need hug bowl ramen co...       2  \n",
      "26107  working ap today hour lunch hours work overtim...       2  \n",
      "\n",
      "\n"
     ]
    }
   ],
   "source": [
    "for cluster in [0, 1, 2]:\n",
    "    print(f\"Random 2 rows for cluster {cluster}:\")\n",
    "    cluster_data = merged_df[merged_df['labels'] == cluster]  # Filter data for the current cluster\n",
    "    random_samples = cluster_data.sample(n=2, random_state=24)  # Randomly sample 2 rows\n",
    "    print(random_samples)\n",
    "    print(\"\\n\")"
   ]
  },
  {
   "cell_type": "code",
   "execution_count": 29,
   "id": "0f783380",
   "metadata": {},
   "outputs": [
    {
     "ename": "MemoryError",
     "evalue": "Unable to allocate 5.97 GiB for an array with shape (27981, 28645) and data type float64",
     "output_type": "error",
     "traceback": [
      "\u001b[1;31m---------------------------------------------------------------------------\u001b[0m",
      "\u001b[1;31mMemoryError\u001b[0m                               Traceback (most recent call last)",
      "\u001b[1;32m~\\AppData\\Local\\Temp\\ipykernel_1352\\2059078350.py\u001b[0m in \u001b[0;36m<module>\u001b[1;34m\u001b[0m\n\u001b[0;32m      2\u001b[0m \u001b[0mpca\u001b[0m \u001b[1;33m=\u001b[0m \u001b[0mPCA\u001b[0m\u001b[1;33m(\u001b[0m\u001b[0mn_components\u001b[0m\u001b[1;33m=\u001b[0m\u001b[1;36m100\u001b[0m\u001b[1;33m)\u001b[0m\u001b[1;33m\u001b[0m\u001b[1;33m\u001b[0m\u001b[0m\n\u001b[0;32m      3\u001b[0m \u001b[0mtfidf_matrix\u001b[0m \u001b[1;33m=\u001b[0m \u001b[0mpickle\u001b[0m\u001b[1;33m.\u001b[0m\u001b[0mload\u001b[0m\u001b[1;33m(\u001b[0m\u001b[0mopen\u001b[0m\u001b[1;33m(\u001b[0m\u001b[1;34m'tfidf_matrix.pkl'\u001b[0m\u001b[1;33m,\u001b[0m \u001b[1;34m'rb'\u001b[0m\u001b[1;33m)\u001b[0m\u001b[1;33m)\u001b[0m\u001b[1;33m\u001b[0m\u001b[1;33m\u001b[0m\u001b[0m\n\u001b[1;32m----> 4\u001b[1;33m \u001b[0mtfidf_reduced\u001b[0m \u001b[1;33m=\u001b[0m \u001b[0mpca\u001b[0m\u001b[1;33m.\u001b[0m\u001b[0mfit_transform\u001b[0m\u001b[1;33m(\u001b[0m\u001b[0mtfidf_matrix\u001b[0m\u001b[1;33m.\u001b[0m\u001b[0mtoarray\u001b[0m\u001b[1;33m(\u001b[0m\u001b[1;33m)\u001b[0m\u001b[1;33m)\u001b[0m\u001b[1;33m\u001b[0m\u001b[1;33m\u001b[0m\u001b[0m\n\u001b[0m",
      "\u001b[1;32m~\\anaconda3\\lib\\site-packages\\scipy\\sparse\\_compressed.py\u001b[0m in \u001b[0;36mtoarray\u001b[1;34m(self, order, out)\u001b[0m\n\u001b[0;32m   1049\u001b[0m         \u001b[1;32mif\u001b[0m \u001b[0mout\u001b[0m \u001b[1;32mis\u001b[0m \u001b[1;32mNone\u001b[0m \u001b[1;32mand\u001b[0m \u001b[0morder\u001b[0m \u001b[1;32mis\u001b[0m \u001b[1;32mNone\u001b[0m\u001b[1;33m:\u001b[0m\u001b[1;33m\u001b[0m\u001b[1;33m\u001b[0m\u001b[0m\n\u001b[0;32m   1050\u001b[0m             \u001b[0morder\u001b[0m \u001b[1;33m=\u001b[0m \u001b[0mself\u001b[0m\u001b[1;33m.\u001b[0m\u001b[0m_swap\u001b[0m\u001b[1;33m(\u001b[0m\u001b[1;34m'cf'\u001b[0m\u001b[1;33m)\u001b[0m\u001b[1;33m[\u001b[0m\u001b[1;36m0\u001b[0m\u001b[1;33m]\u001b[0m\u001b[1;33m\u001b[0m\u001b[1;33m\u001b[0m\u001b[0m\n\u001b[1;32m-> 1051\u001b[1;33m         \u001b[0mout\u001b[0m \u001b[1;33m=\u001b[0m \u001b[0mself\u001b[0m\u001b[1;33m.\u001b[0m\u001b[0m_process_toarray_args\u001b[0m\u001b[1;33m(\u001b[0m\u001b[0morder\u001b[0m\u001b[1;33m,\u001b[0m \u001b[0mout\u001b[0m\u001b[1;33m)\u001b[0m\u001b[1;33m\u001b[0m\u001b[1;33m\u001b[0m\u001b[0m\n\u001b[0m\u001b[0;32m   1052\u001b[0m         \u001b[1;32mif\u001b[0m \u001b[1;32mnot\u001b[0m \u001b[1;33m(\u001b[0m\u001b[0mout\u001b[0m\u001b[1;33m.\u001b[0m\u001b[0mflags\u001b[0m\u001b[1;33m.\u001b[0m\u001b[0mc_contiguous\u001b[0m \u001b[1;32mor\u001b[0m \u001b[0mout\u001b[0m\u001b[1;33m.\u001b[0m\u001b[0mflags\u001b[0m\u001b[1;33m.\u001b[0m\u001b[0mf_contiguous\u001b[0m\u001b[1;33m)\u001b[0m\u001b[1;33m:\u001b[0m\u001b[1;33m\u001b[0m\u001b[1;33m\u001b[0m\u001b[0m\n\u001b[0;32m   1053\u001b[0m             \u001b[1;32mraise\u001b[0m \u001b[0mValueError\u001b[0m\u001b[1;33m(\u001b[0m\u001b[1;34m'Output array must be C or F contiguous'\u001b[0m\u001b[1;33m)\u001b[0m\u001b[1;33m\u001b[0m\u001b[1;33m\u001b[0m\u001b[0m\n",
      "\u001b[1;32m~\\anaconda3\\lib\\site-packages\\scipy\\sparse\\_base.py\u001b[0m in \u001b[0;36m_process_toarray_args\u001b[1;34m(self, order, out)\u001b[0m\n\u001b[0;32m   1296\u001b[0m             \u001b[1;32mreturn\u001b[0m \u001b[0mout\u001b[0m\u001b[1;33m\u001b[0m\u001b[1;33m\u001b[0m\u001b[0m\n\u001b[0;32m   1297\u001b[0m         \u001b[1;32melse\u001b[0m\u001b[1;33m:\u001b[0m\u001b[1;33m\u001b[0m\u001b[1;33m\u001b[0m\u001b[0m\n\u001b[1;32m-> 1298\u001b[1;33m             \u001b[1;32mreturn\u001b[0m \u001b[0mnp\u001b[0m\u001b[1;33m.\u001b[0m\u001b[0mzeros\u001b[0m\u001b[1;33m(\u001b[0m\u001b[0mself\u001b[0m\u001b[1;33m.\u001b[0m\u001b[0mshape\u001b[0m\u001b[1;33m,\u001b[0m \u001b[0mdtype\u001b[0m\u001b[1;33m=\u001b[0m\u001b[0mself\u001b[0m\u001b[1;33m.\u001b[0m\u001b[0mdtype\u001b[0m\u001b[1;33m,\u001b[0m \u001b[0morder\u001b[0m\u001b[1;33m=\u001b[0m\u001b[0morder\u001b[0m\u001b[1;33m)\u001b[0m\u001b[1;33m\u001b[0m\u001b[1;33m\u001b[0m\u001b[0m\n\u001b[0m\u001b[0;32m   1299\u001b[0m \u001b[1;33m\u001b[0m\u001b[0m\n\u001b[0;32m   1300\u001b[0m \u001b[1;33m\u001b[0m\u001b[0m\n",
      "\u001b[1;31mMemoryError\u001b[0m: Unable to allocate 5.97 GiB for an array with shape (27981, 28645) and data type float64"
     ]
    }
   ],
   "source": [
    "# PCA for Dimensionality Reduction\n",
    "pca = PCA(n_components=100)\n",
    "tfidf_matrix = pickle.load(open('tfidf_matrix.pkl', 'rb'))\n",
    "tfidf_reduced = pca.fit_transform(tfidf_matrix.toarray())\n"
   ]
  },
  {
   "cell_type": "code",
   "execution_count": null,
   "id": "93726f09",
   "metadata": {},
   "outputs": [],
   "source": [
    "# Bar graph of cluster distribution\n",
    "plt.bar(range(len(set(merged_df['labels']))), merged_df['labels'].value_counts())\n",
    "plt.xlabel('Cluster ID')\n",
    "plt.ylabel('Number of Data Points')\n",
    "plt.title('K-means Cluster Distribution')\n",
    "plt.show()"
   ]
  },
  {
   "cell_type": "code",
   "execution_count": null,
   "id": "64ab29bb",
   "metadata": {},
   "outputs": [],
   "source": [
    "# Plotting the clusters using different colors\n",
    "plt.scatter(tfidf_reduced[:, 0], tfidf_reduced[:, 1], c=merged_df['labels'], cmap='viridis')\n",
    "plt.title('KMeans Clusters')\n",
    "plt.xlabel('Principal Component')\n",
    "plt.show()"
   ]
  },
  {
   "cell_type": "markdown",
   "id": "eb368cab",
   "metadata": {},
   "source": [
    "# CLUSTER ANALYSIS"
   ]
  },
  {
   "cell_type": "code",
   "execution_count": 8,
   "id": "d2082f6c",
   "metadata": {},
   "outputs": [
    {
     "name": "stdout",
     "output_type": "stream",
     "text": [
      "Cluster 1:\n",
      "Text: id responded going\n",
      "Text: sooo sad miss san diego\n",
      "Text: boss bullying\n",
      "Text: interview leave alone\n",
      "Text: sons couldnt put releases already bought\n",
      "================================================================================\n",
      "Cluster 2:\n",
      "Text: much love hopeful reckon chances minimal p im never gon na get cake stuff\n",
      "Text: back home gon na miss every one\n",
      "Text: oh marly im sorry hope find soon\n",
      "Text: free fillin app ipod fun im addicted\n",
      "Text: im sorry\n",
      "================================================================================\n",
      "Cluster 3:\n",
      "Text: im soooooo sleeeeepy last day school todaysniffle\n",
      "Text: little happy wine jeje ok itsm free time cares jaja love day\n",
      "Text: happy star wars day everyone enjoy holiday uk\n",
      "Text: happy mothers day mums\n",
      "Text: aww love daddy works days week almost day still tries go sf us\n",
      "================================================================================\n"
     ]
    }
   ],
   "source": [
    "#PRINTING THE FIRST FIVE CLUSTER TEXTS FOR MANUAL INSPECTION\n",
    "cluster_texts = [merged_df[merged_df['labels'] == i]['cleaned_text'].dropna() for i in range(3)]\n",
    "cluster_sentiments = [[sia.polarity_scores(text) for text in cluster] for cluster in cluster_texts]\n",
    "\n",
    "for i, cluster in enumerate(cluster_sentiments):\n",
    "    print(f\"Cluster {i+1}:\")\n",
    "    for j, sentiment in enumerate(cluster[:2]):  # Limit to the first 5 sentiments\n",
    "        text = cluster_texts[i].iloc[j]  # Get the text corresponding to the sentiment\n",
    "        print(f\"Text: {text}\")\n",
    "        #print(f\"Sentiment: {sentiment}\")\n",
    "    print(\"================================================================================\")\n"
   ]
  },
  {
   "cell_type": "code",
   "execution_count": null,
   "id": "3f3c087d",
   "metadata": {},
   "outputs": [],
   "source": []
  },
  {
   "cell_type": "code",
   "execution_count": 9,
   "id": "dd628013",
   "metadata": {},
   "outputs": [],
   "source": [
    "# CLUSTER ANALYSIS\n",
    "cluster_texts = [merged_df[merged_df['labels'] == i]['cleaned_text'].dropna() for i in range(3)]\n",
    "cluster_sentiments = [[sia.polarity_scores(text) for text in cluster] for cluster in cluster_texts]\n",
    "\n",
    "cluster_avg_sentiments = []\n",
    "for cluster in cluster_sentiments:\n",
    "    if cluster:  # Check if the cluster is not empty\n",
    "        avg_sentiment = {key: sum(score[key] for score in cluster) / len(cluster) for key in cluster[0].keys()}\n",
    "        cluster_avg_sentiments.append(avg_sentiment)\n",
    "    else:\n",
    "        cluster_avg_sentiments.append({})  # Append an empty dictionary for empty clusters\n"
   ]
  },
  {
   "cell_type": "code",
   "execution_count": 10,
   "id": "cbf3c652",
   "metadata": {},
   "outputs": [
    {
     "data": {
      "image/png": "[encoded data removed]",
      "text/plain": [
       "<Figure size 640x480 with 1 Axes>"
      ]
     },
     "metadata": {},
     "output_type": "display_data"
    }
   ],
   "source": [
    "# Bar plot\n",
    "plt.bar([i for i, cluster in enumerate(cluster_avg_sentiments) if 'compound' in cluster], [cluster['compound'] for cluster in cluster_avg_sentiments if 'compound' in cluster])\n",
    "plt.xlabel('Cluster ID')\n",
    "plt.ylabel('Average Sentiment Score')\n",
    "plt.title('Cluster Sentiment Analysis')\n",
    "plt.show()\n"
   ]
  },
  {
   "cell_type": "code",
   "execution_count": 11,
   "id": "4786e6c7",
   "metadata": {},
   "outputs": [
    {
     "name": "stdout",
     "output_type": "stream",
     "text": [
      "Cluster 1: NEGATIVE\n",
      "Text: id responded going\n",
      "Sentiment: {'neg': 0.0, 'neu': 1.0, 'pos': 0.0, 'compound': 0.0}\n",
      "----------\n",
      "Text: sooo sad miss san diego\n",
      "Sentiment: {'neg': 0.61, 'neu': 0.39, 'pos': 0.0, 'compound': -0.5719}\n",
      "----------\n",
      "Text: boss bullying\n",
      "Sentiment: {'neg': 0.796, 'neu': 0.204, 'pos': 0.0, 'compound': -0.5994}\n",
      "----------\n",
      "Text: interview leave alone\n",
      "Sentiment: {'neg': 0.762, 'neu': 0.238, 'pos': 0.0, 'compound': -0.296}\n",
      "----------\n",
      "Text: sons couldnt put releases already bought\n",
      "Sentiment: {'neg': 0.0, 'neu': 1.0, 'pos': 0.0, 'compound': 0.0}\n",
      "----------\n",
      "================================================================================\n",
      "Cluster 2: NEUTRAL\n",
      "Text: much love hopeful reckon chances minimal p im never gon na get cake stuff\n",
      "Sentiment: {'neg': 0.0, 'neu': 0.518, 'pos': 0.482, 'compound': 0.8519}\n",
      "----------\n",
      "Text: back home gon na miss every one\n",
      "Sentiment: {'neg': 0.211, 'neu': 0.789, 'pos': 0.0, 'compound': -0.1531}\n",
      "----------\n",
      "Text: oh marly im sorry hope find soon\n",
      "Sentiment: {'neg': 0.141, 'neu': 0.543, 'pos': 0.315, 'compound': 0.3818}\n",
      "----------\n",
      "Text: free fillin app ipod fun im addicted\n",
      "Sentiment: {'neg': 0.0, 'neu': 0.431, 'pos': 0.569, 'compound': 0.765}\n",
      "----------\n",
      "Text: im sorry\n",
      "Sentiment: {'neg': 0.565, 'neu': 0.435, 'pos': 0.0, 'compound': -0.0772}\n",
      "----------\n",
      "================================================================================\n",
      "Cluster 3: POSITIVE\n",
      "Text: im soooooo sleeeeepy last day school todaysniffle\n",
      "Sentiment: {'neg': 0.0, 'neu': 1.0, 'pos': 0.0, 'compound': 0.0}\n",
      "----------\n",
      "Text: little happy wine jeje ok itsm free time cares jaja love day\n",
      "Sentiment: {'neg': 0.0, 'neu': 0.303, 'pos': 0.697, 'compound': 0.9442}\n",
      "----------\n",
      "Text: happy star wars day everyone enjoy holiday uk\n",
      "Sentiment: {'neg': 0.209, 'neu': 0.233, 'pos': 0.558, 'compound': 0.7184}\n",
      "----------\n",
      "Text: happy mothers day mums\n",
      "Sentiment: {'neg': 0.0, 'neu': 0.448, 'pos': 0.552, 'compound': 0.5719}\n",
      "----------\n",
      "Text: aww love daddy works days week almost day still tries go sf us\n",
      "Sentiment: {'neg': 0.0, 'neu': 0.741, 'pos': 0.259, 'compound': 0.6369}\n",
      "----------\n",
      "================================================================================\n"
     ]
    }
   ],
   "source": [
    "# Get the texts for each cluster\n",
    "cluster_texts = [merged_df[merged_df['labels'] == i]['cleaned_text'].dropna() for i in range(3)]\n",
    "\n",
    "# Get the sentiment scores for each text in each cluster\n",
    "cluster_sentiments = [[sia.polarity_scores(text) for text in cluster] for cluster in cluster_texts]\n",
    "\n",
    "# Print Cluster 1 texts and sentiments\n",
    "print(\"Cluster 1: NEGATIVE\")\n",
    "for text, sentiment in zip(cluster_texts[0][:2], cluster_sentiments[0][:5]):\n",
    "    print(f\"Text: {text}\\nSentiment: {sentiment}\\n----------\")\n",
    "print(\"================================================================================\")\n",
    "\n",
    "# Print Cluster 2 texts and sentiments\n",
    "print(\"Cluster 2: NEUTRAL\")\n",
    "for text, sentiment in zip(cluster_texts[1][:2], cluster_sentiments[1][:5]):\n",
    "    print(f\"Text: {text}\\nSentiment: {sentiment}\\n----------\")\n",
    "print(\"================================================================================\")\n",
    "\n",
    "# Print Cluster 3 texts and sentiments\n",
    "print(\"Cluster 3: POSITIVE\")\n",
    "for text, sentiment in zip(cluster_texts[2][:2], cluster_sentiments[2][:5]):\n",
    "    print(f\"Text: {text}\\nSentiment: {sentiment}\\n----------\")\n",
    "print(\"================================================================================\")\n"
   ]
  },
  {
   "cell_type": "markdown",
   "id": "2086b0b2",
   "metadata": {},
   "source": [
    "# USING SENTIMENT SCORES FOR CLUSTERING"
   ]
  },
  {
   "cell_type": "code",
   "execution_count": 12,
   "id": "8fcdf05b",
   "metadata": {},
   "outputs": [],
   "source": [
    "# Get the texts for each cluster\n",
    "cluster_texts = [merged_df[merged_df['labels'] == i]['cleaned_text'].dropna() for i in range(3)]\n",
    "\n",
    "# Get the sentiment scores for each text in each cluster\n",
    "cluster_sentiments = [[sia.polarity_scores(text) for text in cluster] for cluster in cluster_texts]\n",
    "\n",
    "# Get the negative texts (neg >= 0.5)\n",
    "negative_texts = [text for cluster, sentiments in zip(cluster_texts, cluster_sentiments) for text, sentiment in zip(cluster, sentiments) if sentiment['neg'] >= 0.5]\n",
    "\n",
    "# Get the neutral texts (neu >= 0.5)\n",
    "neutral_texts = [text for cluster, sentiments in zip(cluster_texts, cluster_sentiments) for text, sentiment in zip(cluster, sentiments) if sentiment['neu'] >= 0.5]\n",
    "\n",
    "# Get the positive texts (pos >= 0.5)\n",
    "positive_texts = [text for cluster, sentiments in zip(cluster_texts, cluster_sentiments) for text, sentiment in zip(cluster, sentiments) if sentiment['pos'] >= 0.5]"
   ]
  },
  {
   "cell_type": "code",
   "execution_count": 13,
   "id": "6479e830",
   "metadata": {},
   "outputs": [
    {
     "name": "stdout",
     "output_type": "stream",
     "text": [
      "Text: sooo sad miss san diego\n",
      "Sentiment: Negative\n",
      "----------\n",
      "Text: boss bullying\n",
      "Sentiment: Negative\n",
      "----------\n",
      "Text: interview leave alone\n",
      "Sentiment: Negative\n",
      "----------\n",
      "Text: sharpie running dangerously low ink\n",
      "Sentiment: Negative\n",
      "----------\n",
      "Text: sooo tired\n",
      "Sentiment: Negative\n",
      "----------\n",
      "======================================================\n",
      "Text: id responded going\n",
      "Sentiment: Neutral\n",
      "----------\n",
      "Text: sons couldnt put releases already bought\n",
      "Sentiment: Neutral\n",
      "----------\n",
      "Text: soooo high\n",
      "Sentiment: Neutral\n",
      "----------\n",
      "Text: journey wow u became cooler hehe possible\n",
      "Sentiment: Neutral\n",
      "----------\n",
      "Text: want go music tonight lost voice\n",
      "Sentiment: Neutral\n",
      "----------\n",
      "======================================================\n",
      "Text: feedings baby fun smiles coos\n",
      "Sentiment: Positive\n",
      "----------\n",
      "Text: really really like song love story taylor swift\n",
      "Sentiment: Positive\n",
      "----------\n",
      "Text: thats funny cute kids\n",
      "Sentiment: Positive\n",
      "----------\n",
      "Text: romance zero funny\n",
      "Sentiment: Positive\n",
      "----------\n",
      "Text: fun speaking\n",
      "Sentiment: Positive\n",
      "----------\n",
      "======================================================\n"
     ]
    }
   ],
   "source": [
    "# Print only the first 5 texts for each cluster\n",
    "\n",
    "for text in negative_texts[:2]:\n",
    "    print(f\"Text: {text}\\nSentiment: Negative\\n----------\")\n",
    "print(\"======================================================\")\n",
    "\n",
    "\n",
    "for text in neutral_texts[:2]:\n",
    "    print(f\"Text: {text}\\nSentiment: Neutral\\n----------\")\n",
    "print(\"======================================================\")\n",
    "\n",
    "\n",
    "for text in positive_texts[:2]:\n",
    "    print(f\"Text: {text}\\nSentiment: Positive\\n----------\")\n",
    "print(\"======================================================\")"
   ]
  },
  {
   "cell_type": "markdown",
   "id": "eac2bc13",
   "metadata": {},
   "source": [
    "# FOR COMPARISON FOR EVALUATION"
   ]
  },
  {
   "cell_type": "code",
   "execution_count": 14,
   "id": "6bc34e92",
   "metadata": {},
   "outputs": [],
   "source": [
    "# Open the CSV file for writing\n",
    "with open('cluster_texts.csv', 'w', newline='') as csvfile:\n",
    "    writer = csv.writer(csvfile)\n",
    "    \n",
    "    # Write the header\n",
    "    writer.writerow(['Text', 'Label', 'Cluster', 'Predicted Sentiment', 'Real Sentiment'])\n",
    "    \n",
    "    # Write the cluster texts with labels, cluster, predicted sentiment, and real sentiment\n",
    "    for i, cluster in enumerate(cluster_texts):\n",
    "        for text, sentiment in zip(cluster, cluster_sentiments[i]):\n",
    "            predicted_sentiment = 'Negative' if i == 0 else 'Neutral' if i == 1 else 'Positive'\n",
    "            real_sentiment = 'Negative' if sentiment['neg'] >= 0.5 else 'Neutral' if sentiment['neu'] >= 0.5 else 'Positive'\n",
    "            writer.writerow([text, merged_df['labels'].iloc[i], f'Cluster {i+1}', predicted_sentiment, real_sentiment])"
   ]
  },
  {
   "cell_type": "code",
   "execution_count": 21,
   "id": "f05cfa7f",
   "metadata": {},
   "outputs": [
    {
     "name": "stderr",
     "output_type": "stream",
     "text": [
      "C:\\Users\\Mayimunah Nagayi\\anaconda3\\lib\\site-packages\\sklearn\\base.py:329: UserWarning: Trying to unpickle estimator TfidfTransformer from version 1.2.2 when using version 1.0.2. This might lead to breaking code or invalid results. Use at your own risk. For more info please refer to:\n",
      "https://scikit-learn.org/stable/modules/model_persistence.html#security-maintainability-limitations\n",
      "  warnings.warn(\n",
      "C:\\Users\\Mayimunah Nagayi\\anaconda3\\lib\\site-packages\\sklearn\\base.py:329: UserWarning: Trying to unpickle estimator TfidfVectorizer from version 1.2.2 when using version 1.0.2. This might lead to breaking code or invalid results. Use at your own risk. For more info please refer to:\n",
      "https://scikit-learn.org/stable/modules/model_persistence.html#security-maintainability-limitations\n",
      "  warnings.warn(\n"
     ]
    },
    {
     "name": "stdout",
     "output_type": "stream",
     "text": [
      "                                               Tweet  KMeans_Label\n",
      "0  Just saw the most amazing movie! Highly recomm...             1\n",
      "1  I can't believe the weather today—it's raining...             1\n",
      "2  Feeling so grateful for my friends and family....             2\n",
      "3  This new phone I bought is such a disappointme...             0\n",
      "4  Had a fantastic workout session at the gym tod...             1\n"
     ]
    }
   ],
   "source": [
    "# import re\n",
    "# import pickle\n",
    "# import numpy as np\n",
    "# import pandas as pd\n",
    "# from sklearn.decomposition import TruncatedSVD\n",
    "# from sklearn.feature_extraction.text import TfidfVectorizer\n",
    "# from sklearn.cluster import KMeans\n",
    "# from nltk.corpus import stopwords\n",
    "# from nltk.tokenize import word_tokenize\n",
    "\n",
    "# # Load new tweets\n",
    "# # Load new tweets\n",
    "# new_tweets = [\n",
    "#     \"Just saw the most amazing movie! Highly recommend it to everyone.\",\n",
    "#     \"I can't believe the weather today—it's raining cats and dogs!\",\n",
    "#     \"Feeling so grateful for my friends and family. Life is good.\",\n",
    "#     \"This new phone I bought is such a disappointment. Wish I had researched more.\",\n",
    "#     \"Had a fantastic workout session at the gym today. Feeling energized!\"\n",
    "# ]\n",
    "\n",
    "\n",
    "# # Function for text cleaning, tokenization, and normalization\n",
    "# def clean_text(text):\n",
    "#     text = re.sub(r'[^A-Za-z\\s]', '', text)  # Remove special characters and punctuation\n",
    "#     text = re.sub(r'@user', '', text)  # Remove mentions of @user\n",
    "#     tokens = word_tokenize(text)  # Tokenize text\n",
    "#     stop_words = set(stopwords.words('english'))\n",
    "#     tokens = [word.lower() for word in tokens if word.lower() not in stop_words]  # Remove stopwords\n",
    "#     return ' '.join(tokens)\n",
    "\n",
    "# # Preprocess new tweets\n",
    "# preprocessed_tweets = [clean_text(tweet) for tweet in new_tweets]\n",
    "\n",
    "# # Load the saved TF-IDF vectorizer\n",
    "# with open('vectorizer.pkl', 'rb') as f:\n",
    "#     tfidf_vectorizer = pickle.load(f)\n",
    "\n",
    "# # Transform new tweets using the loaded vectorizer\n",
    "# new_tweets_tfidf = tfidf_vectorizer.transform(preprocessed_tweets)\n",
    "\n",
    "# # Load the saved SVD model (TruncatedSVD for dimensionality reduction)\n",
    "# with open('svd_model.pkl', 'rb') as f:\n",
    "#     svd = pickle.load(f)\n",
    "\n",
    "# # Apply the SVD transformation to the new data (reduce dimensionality)\n",
    "# new_tweets_reduced = svd.transform(new_tweets_tfidf)\n",
    "\n",
    "# # Initialize KMeans with the same parameters used during training\n",
    "# kmeans = KMeans(n_clusters=3)  # Adjust n_clusters if needed\n",
    "\n",
    "# # Fit the KMeans algorithm to the reduced data\n",
    "# kmeans.fit(new_tweets_reduced)\n",
    "\n",
    "# # Predict the clusters for the new data\n",
    "# kmeans_labels = kmeans.predict(new_tweets_reduced)\n",
    "\n",
    "# # Create a DataFrame to store results\n",
    "# df_results = pd.DataFrame({\n",
    "#     'Tweet': new_tweets,\n",
    "#     'KMeans_Label': kmeans_labels\n",
    "# })\n",
    "\n",
    "# # Display results\n",
    "# print(df_results)\n",
    "\n",
    "# # Save the new KMeans cluster labels for further use\n",
    "# with open('new_kmeans_labels.pkl', 'wb') as f:\n",
    "#     pickle.dump(kmeans_labels, f)\n",
    "\n",
    "# # Optionally, save results to a CSV file\n",
    "# df_results.to_csv('tweets_with_kmeans_labels.csv', index=False)\n"
   ]
  },
  {
   "cell_type": "code",
   "execution_count": null,
   "id": "91e4e174",
   "metadata": {},
   "outputs": [],
   "source": []
  },
  {
   "cell_type": "code",
   "execution_count": null,
   "id": "bf587b92",
   "metadata": {},
   "outputs": [],
   "source": []
  }
 ],
 "metadata": {
  "kernelspec": {
   "display_name": "Python 3 (ipykernel)",
   "language": "python",
   "name": "python3"
  },
  "language_info": {
   "codemirror_mode": {
    "name": "ipython",
    "version": 3
   },
   "file_extension": ".py",
   "mimetype": "text/x-python",
   "name": "python",
   "nbconvert_exporter": "python",
   "pygments_lexer": "ipython3",
   "version": "3.9.13"
  }
 },
 "nbformat": 4,
 "nbformat_minor": 5
}

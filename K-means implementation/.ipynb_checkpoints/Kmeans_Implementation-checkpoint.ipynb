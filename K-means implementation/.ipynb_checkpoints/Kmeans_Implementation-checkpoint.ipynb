{
 "cells": [
  {
   "cell_type": "markdown",
   "id": "de8149e2",
   "metadata": {},
   "source": []
  },
  {
   "cell_type": "markdown",
   "id": "467dade8",
   "metadata": {},
   "source": [
    "# KMeans Clustering Implementation\n",
    "\n",
    "This notebook implements KMeans clustering on tweets data to group similar tweets into clusters. The main steps include:\n",
    "\n",
    "## 1. Importing Necessary Libraries\n",
    "- Libraries such as `numpy`, `pandas`, and `pickle` for data manipulation and file handling.\n",
    "- `KMeans` from `sklearn.cluster` for clustering.\n",
    "- Metrics from `sklearn.metrics` for evaluating clustering performance.\n",
    "- `TfidfVectorizer` for text vectorization.\n",
    "- `TruncatedSVD` for dimensionality reduction.\n",
    "\n",
    "## 2. Loading TF-IDF Matrix\n",
    "- The TF-IDF matrix from the previous file is loaded using `pickle`.\n",
    "\n",
    "## 3. Dimensionality Reduction\n",
    "- The dimensionality of the TF-IDF matrix is reduced using `TruncatedSVD` to improve the efficiency of clustering.\n",
    "\n",
    "## 4. Applying KMeans Clustering\n",
    "- KMeans clustering is applied with a specified number of clusters since it is sensitive to large amout of data.\n",
    "- The KMeans algorithm is fitted in chunks to handle large datasets efficiently.\n",
    "- Cluster labels are generated for each tweet.\n",
    "\n",
    "## 5. Saving Results\n",
    "- The cluster labels are saved to a file `kmeans_clustering.pkl`.\n",
    "- The SVD model used for dimensionality reduction is also saved for future use.\n",
    "\n",
    "## 6. Assigning and Saving Cluster Labels\n",
    "- The cluster labels are added to the original dataframe and saved to `tweets_with_labels.csv`.\n",
    "\n",
    "## 7. Evaluating Clustering\n",
    "- Various evaluation metrics are calculated to assess clustering performance:\n",
    "  - **Silhouette Score**: Measures how similar each text is to its own cluster compared to other clusters.\n",
    "  - **Calinski-Harabasz Score**: Evaluates the clustering based on within-cluster dispersion and between-cluster dispersion.\n",
    "  - **Davies-Bouldin Index**: Measures the average similarity ratio of each cluster with its most similar cluster."
   ]
  },
  {
   "cell_type": "markdown",
   "id": "686e6017",
   "metadata": {},
   "source": []
  },
  {
   "cell_type": "code",
   "execution_count": 1,
   "id": "20bcc8ae",
   "metadata": {},
   "outputs": [],
   "source": [
    "#Clustering implementation\n",
    "\n",
    "# Importing Necessary Libraries\n",
    "import numpy as np\n",
    "import pandas as pd\n",
    "import pickle\n",
    "import scipy.sparse\n",
    "import time\n",
    "from sklearn.cluster import KMeans\n",
    "from sklearn.metrics import silhouette_score, calinski_harabasz_score, accuracy_score, classification_report, davies_bouldin_score\n",
    "from sklearn.feature_extraction.text import TfidfVectorizer\n",
    "from sklearn.decomposition import TruncatedSVD"
   ]
  },
  {
   "cell_type": "code",
   "execution_count": 2,
   "id": "ce4ad4fe",
   "metadata": {},
   "outputs": [],
   "source": [
    "# Loading the TF-IDF matrix from the previous file\n",
    "with open('tfidf_matrix.pkl', 'rb') as f:\n",
    "    tfidf_matrix = pickle.load(f)"
   ]
  },
  {
   "cell_type": "code",
   "execution_count": 3,
   "id": "a5026a59",
   "metadata": {},
   "outputs": [],
   "source": [
    "# Reduced dimensionality for computational complexity\n",
    "svd = TruncatedSVD(n_components=100)\n",
    "reduced_tfidf_matrix = svd.fit_transform(tfidf_matrix)"
   ]
  },
  {
   "cell_type": "code",
   "execution_count": 4,
   "id": "26c19e29",
   "metadata": {},
   "outputs": [],
   "source": [
    "# Applying KMeans clustering\n",
    "kmeans = KMeans(n_clusters=3)  # Adjust the number of clusters as i need"
   ]
  },
  {
   "cell_type": "code",
   "execution_count": null,
   "id": "89e9ca19",
   "metadata": {},
   "outputs": [],
   "source": []
  },
  {
   "cell_type": "code",
   "execution_count": null,
   "id": "b21c743e",
   "metadata": {},
   "outputs": [],
   "source": []
  },
  {
   "cell_type": "code",
   "execution_count": 12,
   "id": "74e4e2bc",
   "metadata": {},
   "outputs": [
    {
     "name": "stdout",
     "output_type": "stream",
     "text": [
      "Silhouette Score: 0.145\n",
      "Calinski-Harabasz Score: 444.503\n",
      "Davies-Bouldin Index: 2.848\n"
     ]
    }
   ],
   "source": [
    "import pickle\n",
    "import numpy as np\n",
    "import pandas as pd\n",
    "from sklearn.decomposition import TruncatedSVD\n",
    "from sklearn.feature_extraction.text import TfidfVectorizer\n",
    "from sklearn.cluster import KMeans\n",
    "from sklearn.metrics import silhouette_score, calinski_harabasz_score, davies_bouldin_score\n",
    "\n",
    "# Assuming tfidf_matrix is already defined\n",
    "# Reduced dimensionality for computational complexity\n",
    "svd = TruncatedSVD(n_components=100)\n",
    "reduced_tfidf_matrix = svd.fit_transform(tfidf_matrix)\n",
    "\n",
    "# Apply KMeans clustering on the reduced data\n",
    "kmeans = KMeans(n_clusters=3)  # Adjust the number of clusters as needed\n",
    "kmeans.fit(reduced_tfidf_matrix)  # Fit on the entire reduced data\n",
    "\n",
    "# Save the KMeans model\n",
    "with open('kmeans_model.pkl', 'wb') as f:\n",
    "    pickle.dump(kmeans, f)\n",
    "\n",
    "# Save the SVD model\n",
    "with open('svd_model.pkl', 'wb') as f:\n",
    "    pickle.dump(svd, f)\n",
    "\n",
    "# Generate and save KMeans labels\n",
    "labels = kmeans.labels_\n",
    "with open('kmeans_labels.pkl', 'wb') as f:\n",
    "    pickle.dump(labels, f)\n",
    "\n",
    "# Assigning cluster labels to the dataframe\n",
    "merged_df = pd.read_csv('cleaned_tweets.csv')\n",
    "merged_df['labels'] = labels\n",
    "merged_df.to_csv('tweets_with_labels.csv', index=False)\n",
    "\n",
    "# Evaluate clustering performance\n",
    "print(f\"Silhouette Score: {silhouette_score(reduced_tfidf_matrix, labels):.3f}\")\n",
    "print(f\"Calinski-Harabasz Score: {calinski_harabasz_score(reduced_tfidf_matrix, labels):.3f}\")\n",
    "print(f\"Davies-Bouldin Index: {davies_bouldin_score(reduced_tfidf_matrix, labels):.3f}\")\n"
   ]
  },
  {
   "cell_type": "code",
   "execution_count": null,
   "id": "ee762c72",
   "metadata": {},
   "outputs": [],
   "source": []
  },
  {
   "cell_type": "code",
   "execution_count": null,
   "id": "d2d107ff",
   "metadata": {},
   "outputs": [],
   "source": []
  },
  {
   "cell_type": "code",
   "execution_count": null,
   "id": "e92bb14a",
   "metadata": {},
   "outputs": [],
   "source": []
  },
  {
   "cell_type": "code",
   "execution_count": 5,
   "id": "0fd35797",
   "metadata": {},
   "outputs": [],
   "source": [
    "# Fitting and training the KMeans algorithm to the numerical array in chunks\n",
    "chunk_size = 1000\n",
    "labels = []\n",
    "\n",
    "for i in range(0, tfidf_matrix.shape[0], chunk_size):\n",
    "    chunk = tfidf_matrix[i:i + chunk_size]\n",
    "    kmeans.fit(chunk.astype(np.float32).toarray())\n",
    "    labels.extend(kmeans.labels_)\n",
    "    "
   ]
  },
  {
   "cell_type": "code",
   "execution_count": 6,
   "id": "9c0b83c3",
   "metadata": {},
   "outputs": [],
   "source": [
    "# # Verifying the length of K-means labels\n",
    "# print(f\"Length of K-Means labels: {len(labels)}\")\n",
    "\n",
    "# Saving the model After fitting the KMeans model\n",
    "with open('kmeans_model.pkl', 'wb') as f:\n",
    "    pickle.dump(kmeans, f)\n",
    "    \n",
    "# Saving the AKmeans Clustering labels\n",
    "with open('kmeans_labels.pkl', 'wb') as f:\n",
    "    pickle.dump(labels, f)\n",
    "    \n",
    "# Saving the SVD model after fitting during training\n",
    "with open('svd_model.pkl', 'wb') as f:\n",
    "    pickle.dump(svd, f)"
   ]
  },
  {
   "cell_type": "code",
   "execution_count": 7,
   "id": "2c237cca",
   "metadata": {},
   "outputs": [],
   "source": [
    "# Assigning cluster labels to the dataframe\n",
    "merged_df = pd.read_csv('cleaned_tweets.csv')\n",
    "merged_df['labels'] = labels\n",
    "merged_df.to_csv('tweets_with_labels.csv', index=False)"
   ]
  },
  {
   "cell_type": "code",
   "execution_count": 8,
   "id": "1b514d20",
   "metadata": {},
   "outputs": [
    {
     "name": "stdout",
     "output_type": "stream",
     "text": [
      "Silhouette Score: -0.911\n",
      "Calinski-Harabasz Score: 0.421\n",
      "Davies-Bouldin Index: 5.521\n"
     ]
    }
   ],
   "source": [
    "# Calculating evaluation metrics\n",
    "\n",
    "# Reduce the size of the data \n",
    "tfidf_matrix_subset = tfidf_matrix[:500, :500].toarray()\n",
    "labels_subset = labels[:500]\n",
    "kmeans_subset = kmeans.labels_[:500]\n",
    "\n",
    "#Silhouette Evaluation\n",
    "silhouette = silhouette_score(tfidf_matrix_subset, kmeans_subset)\n",
    "print(f'Silhouette Score: {silhouette:.3f}')\n",
    "\n",
    "#calinski_harabasz\n",
    "calinski_harabasz = calinski_harabasz_score(tfidf_matrix_subset, kmeans_subset)\n",
    "print(f'Calinski-Harabasz Score: {calinski_harabasz:.3f}')\n",
    "\n",
    "# Davies-Bouldin Index\n",
    "davies_bouldin = davies_bouldin_score(tfidf_matrix_subset, kmeans_subset)\n",
    "print(f'Davies-Bouldin Index: {davies_bouldin:.3f}')\n"
   ]
  },
  {
   "cell_type": "code",
   "execution_count": 9,
   "id": "96ff0e29",
   "metadata": {},
   "outputs": [
    {
     "name": "stdout",
     "output_type": "stream",
     "text": [
      "Number of clusters: 3\n"
     ]
    }
   ],
   "source": [
    "# Displaying the number of clusters for analysis\n",
    "n_clusters = len(set(labels))\n",
    "print(f'Number of clusters: {n_clusters}')"
   ]
  },
  {
   "cell_type": "code",
   "execution_count": 10,
   "id": "232d7dfe",
   "metadata": {},
   "outputs": [
    {
     "name": "stdout",
     "output_type": "stream",
     "text": [
      "Accuracy: 0.714\n",
      "              precision    recall  f1-score   support\n",
      "\n",
      "           0       0.81      0.87      0.84       406\n",
      "           1       0.00      0.00      0.00        64\n",
      "           2       0.05      0.10      0.07        30\n",
      "\n",
      "    accuracy                           0.71       500\n",
      "   macro avg       0.29      0.32      0.30       500\n",
      "weighted avg       0.66      0.71      0.68       500\n",
      "\n"
     ]
    }
   ],
   "source": [
    "#NOT MEANINGFUL SINCE THERE ARE NO TRUE VALUES\n",
    "\n",
    "accuracy = accuracy_score(labels_subset, kmeans_subset)\n",
    "print(f'Accuracy: {accuracy:.3f}')\n",
    "print(classification_report(labels_subset, kmeans_subset))\n"
   ]
  },
  {
   "cell_type": "code",
   "execution_count": 11,
   "id": "8c510ac6",
   "metadata": {},
   "outputs": [],
   "source": [
    "# Saved the clustered data\n",
    "merged_df.to_csv('clustered_tweets.csv', index=False)"
   ]
  },
  {
   "cell_type": "code",
   "execution_count": null,
   "id": "3876db4a",
   "metadata": {},
   "outputs": [],
   "source": []
  }
 ],
 "metadata": {
  "kernelspec": {
   "display_name": "Python 3 (ipykernel)",
   "language": "python",
   "name": "python3"
  },
  "language_info": {
   "codemirror_mode": {
    "name": "ipython",
    "version": 3
   },
   "file_extension": ".py",
   "mimetype": "text/x-python",
   "name": "python",
   "nbconvert_exporter": "python",
   "pygments_lexer": "ipython3",
   "version": "3.9.13"
  }
 },
 "nbformat": 4,
 "nbformat_minor": 5
}

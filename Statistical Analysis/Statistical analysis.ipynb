{
 "cells": [
  {
   "cell_type": "code",
   "execution_count": 23,
   "id": "adfa1362",
   "metadata": {},
   "outputs": [],
   "source": [
    "from scipy import stats\n",
    "import numpy as np"
   ]
  },
  {
   "cell_type": "code",
   "execution_count": 24,
   "id": "3c728dc9",
   "metadata": {},
   "outputs": [],
   "source": [
    "\n",
    "# Given test data for results\n",
    "kmeans_silhouette = [-0.07, -0.17, -0.17, -0.32, -0.50, -0.11, -0.91, -0.21, 0.09, -0.27, -0.19, -0.91, -0.58]\n",
    "ap_silhouette = [0.17, 0.165, 0.176, 0.176, 0.171, 0.172, 0.169, 0.178, 0.168, 0.174, 0.187, 0.162, 0.18]\n",
    "\n",
    "kmeans_ch = [0.82, 1.137, 1.048, 0.641, 0.492, 1.01, 0.481, 0.855, 1.636, 1.139, 0.838, 0.638, 1.884]\n",
    "ap_ch = [14.072, 14.853, 14.471, 14.809, 14.867, 14.87, 14.841, 14.456, 14.838, 14.536, 14.826, 13.502, 14.806]\n",
    "\n",
    "kmeans_db = [5.668, 5.179, 5.483, 4.905, 5.495, 5.234, 6.614, 5.499, 4.149, 5.462, 5.139, 6.118, 4.394]\n",
    "ap_db = [1.997, 1.98, 2.043, 1.979, 1.992, 1.925, 1.998, 2.042, 1.995, 2.054, 1.77, 1.941, 1.773]\n"
   ]
  },
  {
   "cell_type": "code",
   "execution_count": 25,
   "id": "e7c60403",
   "metadata": {},
   "outputs": [],
   "source": [
    "# Performing the  t-tests\n",
    "t_stat_silhouette, p_val_silhouette = stats.ttest_ind(kmeans_silhouette, ap_silhouette)\n",
    "t_stat_ch, p_val_ch = stats.ttest_ind(kmeans_ch, ap_ch)\n",
    "t_stat_db, p_val_db = stats.ttest_ind(kmeans_db, ap_db)"
   ]
  },
  {
   "cell_type": "code",
   "execution_count": 26,
   "id": "eb44c9df",
   "metadata": {},
   "outputs": [],
   "source": [
    "def format_scientific(number):\n",
    "    return \"{:.3e}\".format(number).replace('e', ' x 10^')"
   ]
  },
  {
   "cell_type": "code",
   "execution_count": 27,
   "id": "7107a4cf",
   "metadata": {},
   "outputs": [
    {
     "name": "stdout",
     "output_type": "stream",
     "text": [
      "Silhouette Score: t-statistic = -5.895, p-value = 4.416 x 10^-06\n",
      "Calinski-Harabasz Score: t-statistic = -84.375, p-value = 3.341 x 10^-31\n",
      "Davies-Bouldin Index: t-statistic = 18.653, p-value = 8.659 x 10^-16\n"
     ]
    }
   ],
   "source": [
    "print(f'Silhouette Score: t-statistic = {t_stat_silhouette:.3f}, p-value = {format_scientific(p_val_silhouette)}')\n",
    "print(f'Calinski-Harabasz Score: t-statistic = {t_stat_ch:.3f}, p-value = {format_scientific(p_val_ch)}')\n",
    "print(f'Davies-Bouldin Index: t-statistic = {t_stat_db:.3f}, p-value = {format_scientific(p_val_db)}')"
   ]
  },
  {
   "cell_type": "code",
   "execution_count": 28,
   "id": "7be9b388",
   "metadata": {},
   "outputs": [],
   "source": [
    "#Silhouette Score: t-statistic = -5.895, p-value = 4.416 x 10^-06\n",
    "#Calinski-Harabasz Score: t-statistic = -84.375, p-value = 3.341 x 10^-31\n",
    "#Davies-Bouldin Index: t-statistic = 18.653, p-value = 8.659 x 10^-16"
   ]
  }
 ],
 "metadata": {
  "kernelspec": {
   "display_name": "Python 3 (ipykernel)",
   "language": "python",
   "name": "python3"
  },
  "language_info": {
   "codemirror_mode": {
    "name": "ipython",
    "version": 3
   },
   "file_extension": ".py",
   "mimetype": "text/x-python",
   "name": "python",
   "nbconvert_exporter": "python",
   "pygments_lexer": "ipython3",
   "version": "3.9.13"
  }
 },
 "nbformat": 4,
 "nbformat_minor": 5
}
